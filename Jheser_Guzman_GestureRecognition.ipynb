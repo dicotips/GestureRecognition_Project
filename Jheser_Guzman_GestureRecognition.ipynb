{
 "cells": [
  {
   "cell_type": "markdown",
   "metadata": {},
   "source": [
    "# <center> Gesture Recognition Project"
   ]
  },
  {
   "cell_type": "markdown",
   "metadata": {},
   "source": [
    "## Table of Content\n",
    "\n",
    "1. [Environment Setup in Anaconda3](#Environment-Setup-in-Anaconda3)\n",
    "2. [Problem Statement](#Problem-Statement)\n",
    "3. [Importing all the important libraries](#Importing-all-the-important-libraries)  \n",
    "4. [Generator](#Generator)\n",
    "5. [Model](#Model)\n",
    "    1. [Model 1 and 2 - Conv3D](#Model-1-and-2---Conv3D)\n",
    "    2. [Model 3 - Conv3D](#Model-3---Conv3D)\n",
    "    3. [Model 4 and 5 - Conv3D](#Model-4-and-5---Conv3D)\n",
    "    4. [Models 6 and 7 - Conv3D](#Models-6-and-7---Conv3D)\n",
    "    5. [Model 8 - Conv3D](#Model-8---Conv3D)\n",
    "    6. [Model 9 - TimeDistributed Conv2D + GRU](#Model----TimeDistributed-Conv2D-+-GRU)\n",
    "    7. [Model 10 - TimeDistributed Conv2D + GRU](#Model-10---TimeDistributed-Conv2D-+-GRU)\n",
    "    8. [Model 11 - TimeDistributed Conv2D + Dense](#Model-11---TimeDistributed-Conv2D-+-Dense)\n",
    "6. [FINAL MODEL - Time Distributed + ConvLSTM2D](#FINAL-MODEL---Time-Distributed-+-ConvLSTM2D)"
   ]
  },
  {
   "cell_type": "markdown",
   "metadata": {},
   "source": [
    "In this group project, you are going to build a 3D Conv model that will be able to predict the 5 gestures correctly.\n",
    "\n",
    "* Jheser Guzman\n",
    "\n",
    "## Environment Setup in Anaconda\n",
    "* Python 3.7.13\n",
    "* TensorFlow 2.0.0\n",
    "* Keras 2.3.1\n",
    "\n",
    "## Problem Statement\n",
    "\n",
    "Imagine you are working as a data scientist at a home electronics company which manufactures state of the art smart televisions. You want to develop a cool feature in the smart-TV that can recognise five different gestures performed by the user which will help users control the TV without using a remote.\n",
    "\n",
    "The gestures are continuously monitored by the webcam mounted on the TV. Each gesture corresponds to a specific command"
   ]
  },
  {
   "cell_type": "markdown",
   "metadata": {},
   "source": [
    "## Importing all the important libraries"
   ]
  },
  {
   "cell_type": "code",
   "execution_count": 18,
   "metadata": {},
   "outputs": [],
   "source": [
    "# import important libraries\n",
    "import numpy as np\n",
    "import pandas as pd\n",
    "import os\n",
    "\n",
    "from skimage.io import imread\n",
    "from skimage.transform import resize as imresize\n",
    "from PIL import Image, ImageFilter, ImageEnhance\n",
    "import matplotlib.pyplot as plt\n",
    "import datetime\n",
    "\n",
    "import warnings\n",
    "warnings.filterwarnings(\"ignore\")"
   ]
  },
  {
   "cell_type": "markdown",
   "metadata": {},
   "source": [
    "We set the random seed so that the results don't vary drastically."
   ]
  },
  {
   "cell_type": "code",
   "execution_count": 20,
   "metadata": {},
   "outputs": [],
   "source": [
    "import os\n",
    "np.random.seed(30)\n",
    "import random as rn\n",
    "rn.seed(30)\n",
    "\n",
    "# import ML libraries\n",
    "import tensorflow as tf\n",
    "from keras import backend as K"
   ]
  },
  {
   "cell_type": "markdown",
   "metadata": {},
   "source": [
    "In this block, you read the folder names for training and validation. You also set the `batch_size` here. Note that you set the batch size in such a way that you are able to use the GPU in full capacity. You keep increasing the batch size until the machine throws an error."
   ]
  },
  {
   "cell_type": "code",
   "execution_count": 21,
   "metadata": {},
   "outputs": [],
   "source": [
    "# train and validatiaon data creator with ablation\n",
    "# when ablation is 10, then 10 folders for each label will be selected.\n",
    "\n",
    "def get_data(path, ablation=None):\n",
    "    train_doc = np.random.permutation(open(path + 'train.csv').readlines())\n",
    "    val_doc = np.random.permutation(open(path + 'val.csv').readlines())\n",
    "    counts = np.zeros(5) # count for loading folders for 5 classes\n",
    "    train_data = []\n",
    "    val_data = []\n",
    "\n",
    "    # when ablation is None pass full training and val data\n",
    "    if ablation is not None:\n",
    "        \n",
    "        # iterating train doc\n",
    "        for doc in train_doc:\n",
    "            lable = int(doc.strip().split(';')[2])\n",
    "            if counts[lable] < ablation:\n",
    "                train_data.append(doc)\n",
    "                counts[lable] += 1 \n",
    "        counts = np.zeros(5)\n",
    "        \n",
    "        # iterating val doc\n",
    "        for doc in val_doc:\n",
    "            lable = int(doc.strip().split(';')[2])\n",
    "            if counts[lable] < ablation:\n",
    "                val_data.append(doc)\n",
    "                counts[lable] += 1\n",
    "    else:\n",
    "        train_data, val_data = train_doc, val_doc\n",
    "    return train_data, val_data"
   ]
  },
  {
   "cell_type": "code",
   "execution_count": 22,
   "metadata": {},
   "outputs": [],
   "source": [
    "train_doc, val_doc = get_data('_data/', ablation=None)\n",
    "batch_size = 32\n",
    "enable_augmentation = False\n",
    "\n",
    "# selecting alternate frames from 7 to 26.\n",
    "seq_idx = range(7,26,2)\n",
    "\n",
    "# image dimensions\n",
    "dim_x, dim_y = 120, 120"
   ]
  },
  {
   "cell_type": "markdown",
   "metadata": {},
   "source": [
    "## Generator\n",
    "This is one of the most important part of the code. The overall structure of the generator has been given. In the generator, you are going to preprocess the images as you have images of 2 different dimensions as well as create a batch of video frames. You have to experiment with `img_idx`, `y`,`z` and normalization such that you get high accuracy."
   ]
  },
  {
   "cell_type": "code",
   "execution_count": null,
   "metadata": {},
   "outputs": [],
   "source": [
    "# Generator with augmentation for train data\n",
    "def generator(source_path, folder_list, batch_size, is_train = False, augmention = False, debug=False):\n",
    "    # print('\\nSource path = ', source_path, '; batch size =', batch_size)\n",
    "    img_idx = seq_idx #create a list of image numbers you want to use for a particular video\n",
    "    x = len(img_idx)\n",
    "    y, z = dim_x, dim_y\n",
    "    while True:\n",
    "        # doubling the data for augmentation\n",
    "        if is_train and augmention:\n",
    "            t = np.concatenate((np.random.permutation(folder_list), np.random.permutation(folder_list)))\n",
    "        else:\n",
    "            t = np.random.permutation(folder_list)\n",
    "            \n",
    "        if (len(t)%batch_size) == 0:\n",
    "            num_batches = int(len(t)/batch_size)\n",
    "        else:\n",
    "            num_batches = len(t)//batch_size + 1\n",
    "            \n",
    "        # Iterate over the number of batches\n",
    "        for batch in range(num_batches):\n",
    "\n",
    "            # x is the number of images you use for each video, (y,z) is the final size of the input images and 3 is the number of channels RGB\n",
    "            batch_data = np.zeros((batch_size,x,y,z,3))\n",
    "            \n",
    "            # batch_labels is the one hot representation of the output\n",
    "            batch_labels = np.zeros((batch_size,5)) \n",
    "\n",
    "            # Iterate over the batch_size\n",
    "            for folder in range(batch_size): \n",
    "                if debug:\n",
    "                    plt.figure(figsize=(20,5))\n",
    "                    \n",
    "                # Handling remaining datapoints\n",
    "                folder_idx = folder + (batch*batch_size)\n",
    "                if folder_idx >= len(t):\n",
    "                    break\n",
    "                folder_str = t[folder_idx]\n",
    "                imgs = os.listdir(source_path+'/'+ folder_str.split(';')[0]) # read all the images in the folder\n",
    "                \n",
    "                # Augmentation (randomly enabling)\n",
    "                aug_type = None\n",
    "                if is_train and augmention and rn.randint(0,1) == 1:\n",
    "                    aug_type = rn.randint(0, 4) #randomly selecting augmentation type\n",
    "                for idx,item in enumerate(img_idx): #  Iterate iver the frames/images of a folder to read them in\n",
    "                    image = imread(source_path+'/'+ folder_str.strip().split(';')[0]+'/'+imgs[item]).astype(np.float32)\n",
    "\n",
    "                    # plotting original images for debugging purpose only\n",
    "                    if debug:\n",
    "                        plt.subplot(2, x, idx+1)\n",
    "                        plt.imshow(image.astype('uint8'))\n",
    "\n",
    "                    ## Cropping and resize of images.\n",
    "                    # Images are of 2 different shape and the conv3D will throw error if the inputs in a batch have different shapes.\n",
    "                    # Cropping to have the same aspect ratio\n",
    "                    if image.shape[1] > image.shape[0]:\n",
    "                        diff_px = image.shape[1] - image.shape[0]\n",
    "                        crop_start = diff_px//2\n",
    "                        crop_end = crop_start + image.shape[0]\n",
    "                        image = image[:, crop_start:crop_end]\n",
    "                    elif image.shape[0] > image.shape[1]:\n",
    "                        diff_px = image.shape[0] - image.shape[1]\n",
    "                        crop_start = diff_px//2\n",
    "                        crop_end = crop_start + image.shape[1]\n",
    "                        image = image[:, crop_start:crop_end]\n",
    "\n",
    "                    resized_im = imresize(image, (y,z))\n",
    "\n",
    "                    if aug_type is not None:\n",
    "                        if aug_type == 0: # edge Enhancement\n",
    "                            resized_im = np.array(Image.fromarray(resized_im, 'RGB').filter(ImageFilter.EDGE_ENHANCE))\n",
    "                        elif aug_type == 1: # adding gaussian blur\n",
    "                            resized_im = np.array(Image.fromarray(resized_im, 'RGB').filter(ImageFilter.GaussianBlur(1)))\n",
    "                        elif aug_type == 2: # enchancing image detailing\n",
    "                            resized_im = np.array(Image.fromarray(resized_im, 'RGB').filter(ImageFilter.DETAIL))\n",
    "                        elif aug_type == 3: # sharpening image\n",
    "                            resized_im = np.array(Image.fromarray(resized_im, 'RGB').filter(ImageFilter.SHARPEN))\n",
    "                        elif aug_type == 4: # Brightness enhancement\n",
    "                            resized_im = np.array(ImageEnhance.Brightness((Image.fromarray(resized_im, 'RGB'))).enhance(1.5))\n",
    "                            \n",
    "                    # plotting rezised images for debugging purpose only\n",
    "                    if debug:\n",
    "                        plt.subplot(2, x, idx+x+1)\n",
    "                        plt.imshow(resized_im)\n",
    "\n",
    "                    batch_data[folder,idx,:,:,0] = resized_im[:,:,0]/255 #normalise and feed in the image\n",
    "                    batch_data[folder,idx,:,:,1] = resized_im[:,:,1]/255 #normalise and feed in the image\n",
    "                    batch_data[folder,idx,:,:,2] = resized_im[:,:,2]/255 #normalise and feed in the image\n",
    "\n",
    "                batch_labels[folder, int(folder_str.strip().split(';')[2])] = 1\n",
    "            yield batch_data, batch_labels #you yield the batch_data and the batch_labels, remember what does yield do            "
   ]
  },
  {
   "cell_type": "markdown",
   "metadata": {},
   "source": [
    "Note here that a video is represented above in the generator as (number of images, height, width, number of channels). Take this into consideration while creating the model architecture."
   ]
  },
  {
   "cell_type": "code",
   "execution_count": 24,
   "metadata": {},
   "outputs": [
    {
     "name": "stdout",
     "output_type": "stream",
     "text": [
      "# training sequences = 663\n",
      "# validation sequences = 100\n",
      "# epochs = 50\n"
     ]
    }
   ],
   "source": [
    "curr_dt_time = datetime.datetime.now()\n",
    "train_path = '_data/train'\n",
    "val_path =  '_data/val'\n",
    "\n",
    "#multiply number train seq by 2 when using augmentation\n",
    "multiplier = 1\n",
    "if enable_augmentation:\n",
    "    multiplier = 2\n",
    "num_train_sequences = len(train_doc)*multiplier\n",
    "print('# training sequences =', num_train_sequences)\n",
    "\n",
    "num_val_sequences = len(val_doc)\n",
    "print('# validation sequences =', num_val_sequences)\n",
    "\n",
    "num_epochs = 50 # choose the number of epochs\n",
    "print ('# epochs =', num_epochs)"
   ]
  },
  {
   "cell_type": "markdown",
   "metadata": {},
   "source": [
    "## Model\n",
    "Here you make the model using different functionalities that Keras provides. Remember to use `Conv3D` and `MaxPooling3D` and not `Conv2D` and `Maxpooling2D` for a 3D convolution model. You would want to use `TimeDistributed` while building a Conv2D + RNN model. Also remember that the last layer is the softmax. Design the network in such a way that the model is able to give good accuracy on the least number of parameters so that it can fit in the memory of the webcam."
   ]
  },
  {
   "cell_type": "code",
   "execution_count": 32,
   "metadata": {},
   "outputs": [],
   "source": [
    "from keras.models import Sequential, Model\n",
    "from keras.layers import Dense, GRU, Flatten, TimeDistributed, Bidirectional, BatchNormalization, Activation, Dropout, GlobalAveragePooling2D, GlobalAveragePooling3D, ConvLSTM2D\n",
    "from keras.layers.convolutional import Conv2D, Conv3D, MaxPooling2D, MaxPooling3D\n",
    "from keras.callbacks import ModelCheckpoint, ReduceLROnPlateau\n",
    "from keras import optimizers\n",
    "\n",
    "input_shape = (len(seq_idx), dim_x, dim_y, 3)\n",
    "np.random.seed(30)"
   ]
  },
  {
   "attachments": {},
   "cell_type": "markdown",
   "metadata": {},
   "source": [
    "### Model 1 and 2 - Conv3D\n",
    "\n",
    "\n",
    "Model 1 - Settings: \n",
    "* Batch Size = 128\n",
    "* Ablation = 20\n",
    "* Augmentation = False\n",
    "* LR = 0.01\n",
    "* Seq Length = 10\n",
    "* Epoch = 20\n",
    "* Dim = 120x120\n",
    "\n",
    "Model 2 - Settings: \n",
    "...\n",
    "* Batch Size = 32\n"
   ]
  },
  {
   "cell_type": "code",
   "execution_count": null,
   "metadata": {},
   "outputs": [],
   "source": [
    "model_1 = Sequential()\n",
    "model_1.add(Conv3D(32, kernel_size=3, activation='relu', input_shape=input_shape))\n",
    "model_1.add(MaxPooling3D(pool_size=2))\n",
    "\n",
    "model_1.add(Conv3D(64, kernel_size=3, activation='relu'))\n",
    "model_1.add(MaxPooling3D(pool_size=2))\n",
    "\n",
    "model_1.add(Flatten())\n",
    "model_1.add(Dense(256, activation='relu'))\n",
    "model_1.add(Dense(5, activation='softmax'))\n",
    "\n",
    "## COMMENTS Results - Experiment 1\n",
    "# Train Accuracy: 0.15\n",
    "# Validation Accuracy: 0.15\n",
    "\n",
    "## COMMENTS Results - Experiment 2\n",
    "# Train Accuracy: 0.14\n",
    "# Validation Accuracy: 0.21"
   ]
  },
  {
   "cell_type": "markdown",
   "metadata": {},
   "source": [
    "### Model 3 - Conv3D\n",
    "Model 3 - Settings:\n",
    "\n",
    "* Added two Conv3D layer."
   ]
  },
  {
   "cell_type": "code",
   "execution_count": null,
   "metadata": {},
   "outputs": [],
   "source": [
    "model_3 = Sequential()\n",
    "\n",
    "model_3.add(Conv3D(32, kernel_size=3, activation='relu', input_shape=input_shape))\n",
    "model_3.add(Conv3D(64, kernel_size=3, activation='relu'))\n",
    "model_3.add(MaxPooling3D(pool_size=(2, 2, 2)))\n",
    "\n",
    "model_3.add(Conv3D(128, kernel_size=3, activation='relu'))\n",
    "model_3.add(MaxPooling3D(pool_size=(1, 2, 2)))\n",
    "\n",
    "model_3.add(Conv3D(256, kernel_size=(1, 3, 3), activation='relu'))\n",
    "model_3.add(MaxPooling3D(pool_size=(1, 2, 2)))\n",
    "\n",
    "model_3.add(Conv3D(512, kernel_size=(1, 3, 3), activation='relu'))\n",
    "model_3.add(Conv3D(512, kernel_size=(1, 3, 3), activation='relu'))\n",
    "model_3.add(MaxPooling3D(pool_size=(1, 2, 2)))\n",
    "\n",
    "model_3.add(Flatten())\n",
    "model_3.add(Dense(512, activation='relu'))\n",
    "model_3.add(Dense(5, activation='softmax'))\n",
    "\n",
    "## COMMENTS Results - Experiment 3\n",
    "# * Train Accuracy: 0.21\n",
    "# * Validation Accuracy: 0.19"
   ]
  },
  {
   "attachments": {},
   "cell_type": "markdown",
   "metadata": {},
   "source": [
    "### Models 4 and 5 - Conv3D\n",
    "Model 5 - Settings:\n",
    "\n",
    "* Ablation = None\n",
    "* Epoch = 50"
   ]
  },
  {
   "cell_type": "code",
   "execution_count": null,
   "metadata": {},
   "outputs": [],
   "source": [
    "model_4 = Sequential()\n",
    "\n",
    "model_4.add(Conv3D(32, kernel_size=3, activation='relu', input_shape=input_shape))\n",
    "model_4.add(Conv3D(64, kernel_size=3, activation='relu'))\n",
    "model_4.add(MaxPooling3D(pool_size=(2, 2, 2)))\n",
    "model_4.add(BatchNormalization())\n",
    "\n",
    "model_4.add(Conv3D(128, kernel_size=3, activation='relu'))\n",
    "model_4.add(MaxPooling3D(pool_size=(1, 2, 2)))\n",
    "model_4.add(BatchNormalization())\n",
    "\n",
    "model_4.add(Conv3D(256, kernel_size=(1, 3, 3), activation='relu'))\n",
    "model_4.add(MaxPooling3D(pool_size=(1, 2, 2)))\n",
    "model_4.add(BatchNormalization())\n",
    "\n",
    "model_4.add(Conv3D(512, kernel_size=(1, 3, 3), activation='relu'))\n",
    "model_4.add(Conv3D(512, kernel_size=(1, 3, 3), activation='relu'))\n",
    "model_4.add(MaxPooling3D(pool_size=(1, 2, 2)))\n",
    "model_4.add(BatchNormalization())\n",
    "\n",
    "model_4.add(Flatten())\n",
    "model_4.add(Dense(512, activation='relu'))\n",
    "model_4.add(BatchNormalization())\n",
    "model_4.add(Dense(5, activation='softmax'))\n",
    "\n",
    "## COMMENTS Results - Experiment 4\n",
    "# * Train Accuracy: 0.9053\n",
    "# * Validation Accuracy: 0.2608\n",
    "\n",
    "## COMMENTS Results - Experiment 5\n",
    "# * Train Accuracy: 0.9172\n",
    "# * Validation Accuracy: 0.71"
   ]
  },
  {
   "attachments": {},
   "cell_type": "markdown",
   "metadata": {},
   "source": [
    "### Models 6 and 7 - Conv3D\n",
    "\n",
    "Model 6 - Settings:\n",
    "* Drop out = 0.2\n",
    "\n",
    "Model 7 - Settings:\n",
    "* Drop out = 0.5"
   ]
  },
  {
   "cell_type": "code",
   "execution_count": null,
   "metadata": {},
   "outputs": [],
   "source": [
    "model_6 = Sequential()\n",
    "\n",
    "model_6.add(Conv3D(32, kernel_size=3, activation='relu', input_shape=input_shape))\n",
    "model_6.add(Conv3D(64, kernel_size=3, activation='relu'))\n",
    "model_6.add(MaxPooling3D(pool_size=(2, 2, 2)))\n",
    "model_6.add(BatchNormalization())\n",
    "#model_6.add(Dropout(0.2))\n",
    "model_6.add(Dropout(0.5))\n",
    "\n",
    "model_6.add(Conv3D(128, kernel_size=3, activation='relu'))\n",
    "model_6.add(MaxPooling3D(pool_size=(1, 2, 2)))\n",
    "model_6.add(BatchNormalization())\n",
    "#model_6.add(Dropout(0.2))\n",
    "model_6.add(Dropout(0.5))\n",
    "\n",
    "model_6.add(Conv3D(256, kernel_size=(1, 3, 3), activation='relu'))\n",
    "model_6.add(MaxPooling3D(pool_size=(1, 2, 2)))\n",
    "model_6.add(BatchNormalization())\n",
    "#model_6.add(Dropout(0.2))\n",
    "model_6.add(Dropout(0.5))\n",
    "\n",
    "model_6.add(Conv3D(512, kernel_size=(1, 3, 3), activation='relu'))\n",
    "model_6.add(Conv3D(512, kernel_size=(1, 3, 3), activation='relu'))\n",
    "model_6.add(MaxPooling3D(pool_size=(1, 2, 2)))\n",
    "model_6.add(BatchNormalization())\n",
    "# model_6.add(Dropout(0.2))\n",
    "model_6.add(Dropout(0.5))\n",
    "\n",
    "model_6.add(Flatten())\n",
    "model_6.add(Dense(512, activation='relu'))\n",
    "model_6.add(BatchNormalization())\n",
    "model_6.add(Dense(5, activation='softmax'))\n",
    "\n",
    "## COMMENTS Results - Experiment 6\n",
    "# * Train Accuracy: 0.9686\n",
    "# * Validation Accuracy: 0.7523\"\n",
    "\n",
    "## COMMENTS Results - Experiment 7\n",
    "# * Train Accuracy: 0.9671\n",
    "# * Validation Accuracy: 0.5023\""
   ]
  },
  {
   "cell_type": "markdown",
   "metadata": {},
   "source": [
    "### Model 8 - Conv3D"
   ]
  },
  {
   "cell_type": "code",
   "execution_count": null,
   "metadata": {},
   "outputs": [],
   "source": [
    "model_8 = Sequential()\n",
    "\n",
    "model_8.add(Conv3D(32, kernel_size=3, activation='relu', input_shape=input_shape))\n",
    "model_8.add(Conv3D(64, kernel_size=3, activation='relu'))\n",
    "model_8.add(MaxPooling3D(pool_size=(2, 2, 2)))\n",
    "model_8.add(BatchNormalization())\n",
    "model_8.add(Dropout(0.2))\n",
    "\n",
    "model_8.add(Conv3D(128, kernel_size=3, activation='relu'))\n",
    "model_8.add(MaxPooling3D(pool_size=(1, 2, 2)))\n",
    "model_8.add(BatchNormalization())\n",
    "model_8.add(Dropout(0.2))\n",
    "\n",
    "model_8.add(Conv3D(256, kernel_size=(1, 3, 3), activation='relu'))\n",
    "model_8.add(MaxPooling3D(pool_size=(1, 2, 2)))\n",
    "model_8.add(BatchNormalization())\n",
    "model_8.add(Dropout(0.2))\n",
    "\n",
    "model_8.add(GlobalAveragePooling3D())\n",
    "model_8.add(Dense(512, activation='relu'))\n",
    "model_8.add(BatchNormalization())\n",
    "model_8.add(Dense(5, activation='softmax'))\n",
    "\n",
    "## COMMENTS Results - Experiment 8\n",
    "# * Train Accuracy: 0.9412\n",
    "# * Validation Accuracy: 0.8021"
   ]
  },
  {
   "cell_type": "markdown",
   "metadata": {},
   "source": [
    "### Model 9  - TimeDistributed Conv2D + GRU"
   ]
  },
  {
   "cell_type": "code",
   "execution_count": null,
   "metadata": {},
   "outputs": [],
   "source": [
    "model_9 = Sequential()\n",
    "model_9.add(TimeDistributed(\n",
    "    Conv2D(32, (3,3), activation='relu'), input_shape=input_shape)\n",
    ")\n",
    "model_9.add(TimeDistributed(\n",
    "    MaxPooling2D((2,2)))\n",
    ")\n",
    "model_9.add(BatchNormalization())\n",
    "\n",
    "model_9.add(TimeDistributed(\n",
    "    Conv2D(64, (3,3), activation='relu'))\n",
    ")\n",
    "model_9.add(TimeDistributed(\n",
    "    MaxPooling2D((2,2)))\n",
    ")\n",
    "model_9.add(BatchNormalization())\n",
    "\n",
    "model_9.add(TimeDistributed(GlobalAveragePooling2D()))\n",
    "model_9.add(TimeDistributed(Dense(64, activation='relu')))\n",
    "model_9.add(BatchNormalization())\n",
    "\n",
    "model_9.add(GRU(128))\n",
    "model_9.add(BatchNormalization())\n",
    "model_9.add(Dense(5, activation='softmax'))\n",
    "\n",
    "## COMMENTS Results - Experiment 9\n",
    "# * Train Accuracy: 0.8680\n",
    "# * Validation Accuracy: 0.8351"
   ]
  },
  {
   "attachments": {},
   "cell_type": "markdown",
   "metadata": {},
   "source": [
    "### Model 10 - TimeDistributed Conv2D + GRU\n",
    "Model 10 - Settings:\n",
    "* Drop out = 0.2"
   ]
  },
  {
   "cell_type": "code",
   "execution_count": null,
   "metadata": {},
   "outputs": [],
   "source": [
    "model_10 = Sequential()\n",
    "model_10.add(TimeDistributed(\n",
    "    Conv2D(32, (3,3), activation='relu'), input_shape=input_shape)\n",
    ")\n",
    "model_10.add(TimeDistributed(\n",
    "    MaxPooling2D((2,2)))\n",
    ")\n",
    "model_10.add(BatchNormalization())\n",
    "model_10.add(Dropout(0.2))\n",
    "\n",
    "model_10.add(TimeDistributed(\n",
    "    Conv2D(64, (3,3), activation='relu'))\n",
    ")\n",
    "model_10.add(TimeDistributed(\n",
    "    MaxPooling2D((2,2)))\n",
    ")\n",
    "model_10.add(BatchNormalization())\n",
    "model_10.add(Dropout(0.2))\n",
    "\n",
    "model_10.add(TimeDistributed(GlobalAveragePooling2D()))\n",
    "model_10.add(TimeDistributed(Dense(64, activation='relu')))\n",
    "model_10.add(BatchNormalization())\n",
    "model_10.add(Dropout(0.2))\n",
    "\n",
    "model_10.add(GRU(128))\n",
    "model_10.add(BatchNormalization())\n",
    "model_10.add(Dense(5, activation='softmax'))\n",
    "\n",
    "## COMMENTS Results - Experiment 10\n",
    "# * Train Accuracy: 0.8721\n",
    "# * Validation Accuracy: 0.5611"
   ]
  },
  {
   "cell_type": "markdown",
   "metadata": {},
   "source": [
    "### Model 11 - TimeDistributed Conv2D + Dense"
   ]
  },
  {
   "cell_type": "code",
   "execution_count": null,
   "metadata": {},
   "outputs": [],
   "source": [
    "model_11 = Sequential()\n",
    "model_11.add(TimeDistributed(\n",
    "    Conv2D(32, (3,3), activation='relu'), input_shape=input_shape)\n",
    ")\n",
    "model_11.add(TimeDistributed(\n",
    "    MaxPooling2D((2,2)))\n",
    ")\n",
    "model_11.add(BatchNormalization())\n",
    "\n",
    "model_11.add(TimeDistributed(\n",
    "    Conv2D(64, (3,3), activation='relu'))\n",
    ")\n",
    "model_11.add(TimeDistributed(\n",
    "    MaxPooling2D((2,2)))\n",
    ")\n",
    "model_11.add(BatchNormalization())\n",
    "\n",
    "model_11.add(TimeDistributed(\n",
    "    Conv2D(128, (3,3), activation='relu'))\n",
    ")\n",
    "model_11.add(TimeDistributed(\n",
    "    MaxPooling2D((2,2)))\n",
    ")\n",
    "model_11.add(BatchNormalization())\n",
    "\n",
    "model_11.add(GlobalAveragePooling3D())\n",
    "model_11.add(Dense(256, activation='relu'))\n",
    "model_11.add(BatchNormalization())\n",
    "model_11.add(Dense(5, activation='softmax'))\n",
    "\n",
    "## COMMENTS Results - Experiment 11\n",
    "# * Train Accuracy: 0.8670\n",
    "# * Validation Accuracy: 0.8450"
   ]
  },
  {
   "attachments": {},
   "cell_type": "markdown",
   "metadata": {},
   "source": [
    "## FINAL MODEL - Time Distributed + ConvLSTM2D"
   ]
  },
  {
   "cell_type": "code",
   "execution_count": 33,
   "metadata": {},
   "outputs": [
    {
     "name": "stderr",
     "output_type": "stream",
     "text": [
      "2022-05-18 02:14:30.576314: I tensorflow/core/platform/cpu_feature_guard.cc:145] This TensorFlow binary is optimized with Intel(R) MKL-DNN to use the following CPU instructions in performance critical operations:  SSE4.1 SSE4.2\n",
      "To enable them in non-MKL-DNN operations, rebuild TensorFlow with the appropriate compiler flags.\n",
      "2022-05-18 02:14:30.577239: I tensorflow/core/common_runtime/process_util.cc:115] Creating new thread pool with default inter op setting: 10. Tune using inter_op_parallelism_threads for best performance.\n"
     ]
    }
   ],
   "source": [
    "model = Sequential()\n",
    "model.add(TimeDistributed(\n",
    "    Conv2D(8, (3,3), activation='relu'), input_shape=input_shape)\n",
    ")\n",
    "model.add(BatchNormalization())\n",
    "model.add(TimeDistributed(\n",
    "    Conv2D(16, (3,3), activation='relu'))\n",
    ")\n",
    "model.add(BatchNormalization())\n",
    "model.add(\n",
    "    ConvLSTM2D(8, kernel_size = 3, return_sequences=False)\n",
    ")\n",
    "model.add(BatchNormalization())\n",
    "model.add(TimeDistributed(\n",
    "    Dense(64, activation='relu'))\n",
    ")\n",
    "model.add(BatchNormalization())\n",
    "model.add(GlobalAveragePooling2D())\n",
    "model.add(Dense(64, activation='relu'))\n",
    "model.add(Dense(5, activation='softmax'))\n",
    "\n",
    "## COMMENTS Results - Experiment 12\n",
    "# * Train Accuracy: 0.9673\n",
    "# * Validation Accuracy: 0.9375"
   ]
  },
  {
   "cell_type": "markdown",
   "metadata": {},
   "source": [
    "Now that you have written the model, the next step is to `compile` the model. When you print the `summary` of the model, you'll see the total number of parameters you have to train."
   ]
  },
  {
   "cell_type": "code",
   "execution_count": 34,
   "metadata": {
    "scrolled": false
   },
   "outputs": [
    {
     "name": "stdout",
     "output_type": "stream",
     "text": [
      "Model: \"sequential_1\"\n",
      "_________________________________________________________________\n",
      "Layer (type)                 Output Shape              Param #   \n",
      "=================================================================\n",
      "time_distributed_1 (TimeDist (None, 10, 118, 118, 8)   224       \n",
      "_________________________________________________________________\n",
      "batch_normalization_1 (Batch (None, 10, 118, 118, 8)   32        \n",
      "_________________________________________________________________\n",
      "time_distributed_2 (TimeDist (None, 10, 116, 116, 16)  1168      \n",
      "_________________________________________________________________\n",
      "batch_normalization_2 (Batch (None, 10, 116, 116, 16)  64        \n",
      "_________________________________________________________________\n",
      "conv_lst_m2d_1 (ConvLSTM2D)  (None, 114, 114, 8)       6944      \n",
      "_________________________________________________________________\n",
      "batch_normalization_3 (Batch (None, 114, 114, 8)       32        \n",
      "_________________________________________________________________\n",
      "time_distributed_3 (TimeDist (None, 114, 114, 64)      576       \n",
      "_________________________________________________________________\n",
      "batch_normalization_4 (Batch (None, 114, 114, 64)      256       \n",
      "_________________________________________________________________\n",
      "global_average_pooling2d_1 ( (None, 64)                0         \n",
      "_________________________________________________________________\n",
      "dense_2 (Dense)              (None, 64)                4160      \n",
      "_________________________________________________________________\n",
      "dense_3 (Dense)              (None, 5)                 325       \n",
      "=================================================================\n",
      "Total params: 13,781\n",
      "Trainable params: 13,589\n",
      "Non-trainable params: 192\n",
      "_________________________________________________________________\n",
      "None\n"
     ]
    }
   ],
   "source": [
    "optimiser = optimizers.Adam(lr=0.01) #write your optimizer\n",
    "model.compile(optimizer=optimiser, loss='categorical_crossentropy', metrics=['categorical_accuracy'])\n",
    "print(model.summary())"
   ]
  },
  {
   "cell_type": "markdown",
   "metadata": {},
   "source": [
    "Let us create the `train_generator` and the `val_generator` which will be used in `.fit_generator`."
   ]
  },
  {
   "cell_type": "code",
   "execution_count": 37,
   "metadata": {},
   "outputs": [],
   "source": [
    "train_generator = generator(train_path, train_doc, batch_size, is_train = True, augmention = enable_augmentation)\n",
    "val_generator = generator(val_path, val_doc, batch_size)"
   ]
  },
  {
   "cell_type": "code",
   "execution_count": 38,
   "metadata": {},
   "outputs": [],
   "source": [
    "model_name = 'model_init_exp_16' + '_' + str(curr_dt_time).replace(' ','').replace(':','_') + '/'\n",
    "\n",
    "if not os.path.exists(model_name):\n",
    "    os.mkdir(model_name)\n",
    "\n",
    "filepath = model_name + 'model-{epoch:05d}-{loss:.5f}-{categorical_accuracy:.5f}-{val_loss:.5f}-{val_categorical_accuracy:.5f}.h5'\n",
    "\n",
    "checkpoint = ModelCheckpoint(filepath, monitor='val_loss', verbose=1, save_best_only=False, save_weights_only=False, mode='auto', period=1)\n",
    "\n",
    "LR = ReduceLROnPlateau(monitor='val_loss', factor=0.2, patience=5, min_lr=0.001, verbose=1) # write the REducelronplateau code here\n",
    "\n",
    "callbacks_list = [checkpoint, LR]"
   ]
  },
  {
   "cell_type": "markdown",
   "metadata": {},
   "source": [
    "The `steps_per_epoch` and `validation_steps` are used by `fit_generator` to decide the number of next() calls it need to make."
   ]
  },
  {
   "cell_type": "code",
   "execution_count": 39,
   "metadata": {},
   "outputs": [],
   "source": [
    "if (num_train_sequences%batch_size) == 0:\n",
    "    steps_per_epoch = int(num_train_sequences/batch_size)\n",
    "else:\n",
    "    steps_per_epoch = (num_train_sequences//batch_size) + 1\n",
    "\n",
    "if (num_val_sequences%batch_size) == 0:\n",
    "    validation_steps = int(num_val_sequences/batch_size)\n",
    "else:\n",
    "    validation_steps = (num_val_sequences//batch_size) + 1"
   ]
  },
  {
   "cell_type": "markdown",
   "metadata": {},
   "source": [
    "Let us now fit the model. This will start training the model and with the help of the checkpoints, you'll be able to save the model at the end of each epoch."
   ]
  },
  {
   "cell_type": "code",
   "execution_count": null,
   "metadata": {
    "scrolled": false
   },
   "outputs": [
    {
     "name": "stdout",
     "output_type": "stream",
     "text": [
      "Epoch 1/50\n",
      "21/21 [==============================] - 279s 13s/step - loss: 0.6895 - categorical_accuracy: 0.7247 - val_loss: 1.4734 - val_categorical_accuracy: 0.5859\n",
      "\n",
      "Epoch 00001: saving model to model_init_exp_16_2022-05-1802_11_54.319839/model-00001-0.68946-0.72470-1.47341-0.58594.h5\n",
      "Epoch 2/50\n",
      "21/21 [==============================] - 339s 16s/step - loss: 0.6785 - categorical_accuracy: 0.7039 - val_loss: 1.0108 - val_categorical_accuracy: 0.6953\n",
      "\n",
      "Epoch 00002: saving model to model_init_exp_16_2022-05-1802_11_54.319839/model-00002-0.67853-0.70387-1.01078-0.69531.h5\n",
      "Epoch 3/50\n",
      "21/21 [==============================] - 319s 15s/step - loss: 0.6794 - categorical_accuracy: 0.7336 - val_loss: 0.7951 - val_categorical_accuracy: 0.7266\n",
      "\n",
      "Epoch 00003: saving model to model_init_exp_16_2022-05-1802_11_54.319839/model-00003-0.67943-0.73363-0.79512-0.72656.h5\n",
      "Epoch 4/50\n",
      "21/21 [==============================] - 276s 13s/step - loss: 0.6653 - categorical_accuracy: 0.7202 - val_loss: 1.1786 - val_categorical_accuracy: 0.6641\n",
      "\n",
      "Epoch 00004: saving model to model_init_exp_16_2022-05-1802_11_54.319839/model-00004-0.66532-0.72024-1.17863-0.66406.h5\n",
      "Epoch 5/50\n",
      "21/21 [==============================] - 277s 13s/step - loss: 0.6863 - categorical_accuracy: 0.6979 - val_loss: 0.6446 - val_categorical_accuracy: 0.7344\n",
      "\n",
      "Epoch 00005: saving model to model_init_exp_16_2022-05-1802_11_54.319839/model-00005-0.68633-0.69792-0.64458-0.73438.h5\n",
      "Epoch 6/50\n",
      "21/21 [==============================] - 275s 13s/step - loss: 0.6487 - categorical_accuracy: 0.7217 - val_loss: 1.0780 - val_categorical_accuracy: 0.6562\n",
      "\n",
      "Epoch 00006: saving model to model_init_exp_16_2022-05-1802_11_54.319839/model-00006-0.64870-0.72173-1.07796-0.65625.h5\n",
      "Epoch 7/50\n",
      "21/21 [==============================] - 278s 13s/step - loss: 0.6452 - categorical_accuracy: 0.7336 - val_loss: 0.9428 - val_categorical_accuracy: 0.6641\n",
      "\n",
      "Epoch 00007: saving model to model_init_exp_16_2022-05-1802_11_54.319839/model-00007-0.64520-0.73363-0.94282-0.66406.h5\n",
      "Epoch 8/50\n",
      "21/21 [==============================] - 283s 13s/step - loss: 0.7217 - categorical_accuracy: 0.7024 - val_loss: 2.1951 - val_categorical_accuracy: 0.5078\n",
      "\n",
      "Epoch 00008: saving model to model_init_exp_16_2022-05-1802_11_54.319839/model-00008-0.72166-0.70238-2.19506-0.50781.h5\n",
      "Epoch 9/50\n",
      "21/21 [==============================] - 274s 13s/step - loss: 0.7384 - categorical_accuracy: 0.6949 - val_loss: 1.4889 - val_categorical_accuracy: 0.5156\n",
      "\n",
      "Epoch 00009: saving model to model_init_exp_16_2022-05-1802_11_54.319839/model-00009-0.73839-0.69494-1.48894-0.51562.h5\n",
      "Epoch 10/50\n",
      "21/21 [==============================] - 275s 13s/step - loss: 0.8000 - categorical_accuracy: 0.6607 - val_loss: 1.6380 - val_categorical_accuracy: 0.5312\n",
      "\n",
      "Epoch 00010: saving model to model_init_exp_16_2022-05-1802_11_54.319839/model-00010-0.79998-0.66071-1.63801-0.53125.h5\n",
      "\n",
      "Epoch 00010: ReduceLROnPlateau reducing learning rate to 0.001.\n",
      "Epoch 11/50\n",
      "21/21 [==============================] - 279s 13s/step - loss: 0.7423 - categorical_accuracy: 0.6711 - val_loss: 0.9735 - val_categorical_accuracy: 0.6016\n",
      "\n",
      "Epoch 00011: saving model to model_init_exp_16_2022-05-1802_11_54.319839/model-00011-0.74225-0.67113-0.97354-0.60156.h5\n",
      "Epoch 12/50\n",
      "21/21 [==============================] - 281s 13s/step - loss: 0.6977 - categorical_accuracy: 0.7113 - val_loss: 1.4594 - val_categorical_accuracy: 0.5625\n",
      "\n",
      "Epoch 00012: saving model to model_init_exp_16_2022-05-1802_11_54.319839/model-00012-0.69767-0.71131-1.45939-0.56250.h5\n",
      "Epoch 13/50\n",
      "21/21 [==============================] - 278s 13s/step - loss: 0.7183 - categorical_accuracy: 0.6905 - val_loss: 1.0134 - val_categorical_accuracy: 0.6562\n",
      "\n",
      "Epoch 00013: saving model to model_init_exp_16_2022-05-1802_11_54.319839/model-00013-0.71832-0.69048-1.01335-0.65625.h5\n",
      "Epoch 14/50\n",
      "21/21 [==============================] - 276s 13s/step - loss: 0.7038 - categorical_accuracy: 0.7083 - val_loss: 1.2530 - val_categorical_accuracy: 0.6953\n",
      "\n",
      "Epoch 00014: saving model to model_init_exp_16_2022-05-1802_11_54.319839/model-00014-0.70382-0.70833-1.25303-0.69531.h5\n",
      "Epoch 15/50\n",
      "21/21 [==============================] - 382s 18s/step - loss: 0.6624 - categorical_accuracy: 0.7128 - val_loss: 0.8093 - val_categorical_accuracy: 0.6484\n",
      "\n",
      "Epoch 00015: saving model to model_init_exp_16_2022-05-1802_11_54.319839/model-00015-0.66236-0.71280-0.80932-0.64844.h5\n",
      "\n",
      "Epoch 00015: ReduceLROnPlateau reducing learning rate to 0.001.\n",
      "Epoch 16/50\n",
      "21/21 [==============================] - 362s 17s/step - loss: 0.7738 - categorical_accuracy: 0.6949 - val_loss: 0.8150 - val_categorical_accuracy: 0.5859\n",
      "\n",
      "Epoch 00016: saving model to model_init_exp_16_2022-05-1802_11_54.319839/model-00016-0.77380-0.69494-0.81501-0.58594.h5\n",
      "Epoch 17/50\n",
      "21/21 [==============================] - 279s 13s/step - loss: 0.7247 - categorical_accuracy: 0.6860 - val_loss: 0.8241 - val_categorical_accuracy: 0.6719\n",
      "\n",
      "Epoch 00017: saving model to model_init_exp_16_2022-05-1802_11_54.319839/model-00017-0.72473-0.68601-0.82408-0.67188.h5\n",
      "Epoch 18/50\n",
      "21/21 [==============================] - 283s 13s/step - loss: 0.6575 - categorical_accuracy: 0.7113 - val_loss: 1.0903 - val_categorical_accuracy: 0.6953\n",
      "\n",
      "Epoch 00018: saving model to model_init_exp_16_2022-05-1802_11_54.319839/model-00018-0.65752-0.71131-1.09026-0.69531.h5\n",
      "Epoch 19/50\n",
      "21/21 [==============================] - 281s 13s/step - loss: 0.6469 - categorical_accuracy: 0.7054 - val_loss: 1.0094 - val_categorical_accuracy: 0.6953\n",
      "\n",
      "Epoch 00019: saving model to model_init_exp_16_2022-05-1802_11_54.319839/model-00019-0.64693-0.70536-1.00937-0.69531.h5\n",
      "Epoch 20/50\n",
      "21/21 [==============================] - 283s 13s/step - loss: 0.6278 - categorical_accuracy: 0.7262 - val_loss: 0.8794 - val_categorical_accuracy: 0.7188\n",
      "\n",
      "Epoch 00020: saving model to model_init_exp_16_2022-05-1802_11_54.319839/model-00020-0.62781-0.72619-0.87940-0.71875.h5\n",
      "\n",
      "Epoch 00020: ReduceLROnPlateau reducing learning rate to 0.001.\n",
      "Epoch 21/50\n",
      "21/21 [==============================] - 282s 13s/step - loss: 0.6323 - categorical_accuracy: 0.7173 - val_loss: 1.0586 - val_categorical_accuracy: 0.6719\n",
      "\n",
      "Epoch 00021: saving model to model_init_exp_16_2022-05-1802_11_54.319839/model-00021-0.63234-0.71726-1.05858-0.67188.h5\n",
      "Epoch 22/50\n",
      "21/21 [==============================] - 285s 14s/step - loss: 0.6229 - categorical_accuracy: 0.7262 - val_loss: 0.9818 - val_categorical_accuracy: 0.7188\n",
      "\n",
      "Epoch 00022: saving model to model_init_exp_16_2022-05-1802_11_54.319839/model-00022-0.62294-0.72619-0.98182-0.71875.h5\n",
      "Epoch 23/50\n",
      "21/21 [==============================] - 278s 13s/step - loss: 0.6243 - categorical_accuracy: 0.7143 - val_loss: 0.9592 - val_categorical_accuracy: 0.7109\n",
      "\n",
      "Epoch 00023: saving model to model_init_exp_16_2022-05-1802_11_54.319839/model-00023-0.62434-0.71429-0.95921-0.71094.h5\n",
      "Epoch 24/50\n",
      "21/21 [==============================] - 281s 13s/step - loss: 0.5997 - categorical_accuracy: 0.7693 - val_loss: 0.6494 - val_categorical_accuracy: 0.7344\n",
      "\n",
      "Epoch 00024: saving model to model_init_exp_16_2022-05-1802_11_54.319839/model-00024-0.59972-0.76935-0.64941-0.73438.h5\n",
      "Epoch 25/50\n",
      "21/21 [==============================] - 300s 14s/step - loss: 0.6826 - categorical_accuracy: 0.6935 - val_loss: 0.8836 - val_categorical_accuracy: 0.7344\n",
      "\n",
      "Epoch 00025: saving model to model_init_exp_16_2022-05-1802_11_54.319839/model-00025-0.68262-0.69345-0.88359-0.73438.h5\n",
      "\n",
      "Epoch 00025: ReduceLROnPlateau reducing learning rate to 0.001.\n",
      "Epoch 26/50\n",
      "21/21 [==============================] - 284s 14s/step - loss: 0.7038 - categorical_accuracy: 0.6830 - val_loss: 1.0443 - val_categorical_accuracy: 0.7422\n",
      "\n",
      "Epoch 00026: saving model to model_init_exp_16_2022-05-1802_11_54.319839/model-00026-0.70378-0.68304-1.04434-0.74219.h5\n",
      "Epoch 27/50\n",
      "21/21 [==============================] - 338s 16s/step - loss: 0.6208 - categorical_accuracy: 0.7455 - val_loss: 1.1294 - val_categorical_accuracy: 0.6562\n",
      "\n",
      "Epoch 00027: saving model to model_init_exp_16_2022-05-1802_11_54.319839/model-00027-0.62078-0.74554-1.12944-0.65625.h5\n",
      "Epoch 28/50\n",
      "21/21 [==============================] - 318s 15s/step - loss: 0.6186 - categorical_accuracy: 0.7188 - val_loss: 1.4674 - val_categorical_accuracy: 0.6797\n"
     ]
    },
    {
     "name": "stdout",
     "output_type": "stream",
     "text": [
      "\n",
      "Epoch 00028: saving model to model_init_exp_16_2022-05-1802_11_54.319839/model-00028-0.61861-0.71875-1.46743-0.67969.h5\n",
      "Epoch 29/50\n",
      "21/21 [==============================] - 279s 13s/step - loss: 0.6536 - categorical_accuracy: 0.7173 - val_loss: 1.3548 - val_categorical_accuracy: 0.6172\n",
      "\n",
      "Epoch 00029: saving model to model_init_exp_16_2022-05-1802_11_54.319839/model-00029-0.65365-0.71726-1.35480-0.61719.h5\n",
      "Epoch 30/50\n",
      "21/21 [==============================] - 283s 13s/step - loss: 0.6706 - categorical_accuracy: 0.7113 - val_loss: 1.1341 - val_categorical_accuracy: 0.6953\n",
      "\n",
      "Epoch 00030: saving model to model_init_exp_16_2022-05-1802_11_54.319839/model-00030-0.67058-0.71131-1.13412-0.69531.h5\n",
      "\n",
      "Epoch 00030: ReduceLROnPlateau reducing learning rate to 0.001.\n",
      "Epoch 31/50\n",
      "21/21 [==============================] - 275s 13s/step - loss: 0.6681 - categorical_accuracy: 0.7366 - val_loss: 1.2008 - val_categorical_accuracy: 0.6094\n",
      "\n",
      "Epoch 00031: saving model to model_init_exp_16_2022-05-1802_11_54.319839/model-00031-0.66810-0.73661-1.20080-0.60938.h5\n",
      "Epoch 32/50\n",
      "21/21 [==============================] - 282s 13s/step - loss: 0.6499 - categorical_accuracy: 0.7039 - val_loss: 1.2152 - val_categorical_accuracy: 0.6562\n",
      "\n",
      "Epoch 00032: saving model to model_init_exp_16_2022-05-1802_11_54.319839/model-00032-0.64993-0.70387-1.21524-0.65625.h5\n",
      "Epoch 33/50\n",
      "21/21 [==============================] - 273s 13s/step - loss: 0.6048 - categorical_accuracy: 0.7530 - val_loss: 0.7568 - val_categorical_accuracy: 0.6641\n",
      "\n",
      "Epoch 00033: saving model to model_init_exp_16_2022-05-1802_11_54.319839/model-00033-0.60475-0.75298-0.75681-0.66406.h5\n",
      "Epoch 34/50\n",
      "20/21 [===========================>..] - ETA: 12s - loss: 0.5954 - categorical_accuracy: 0.7219"
     ]
    }
   ],
   "source": [
    "history = model.fit_generator(train_generator, steps_per_epoch=steps_per_epoch, epochs=num_epochs, verbose=1, \n",
    "                        callbacks=callbacks_list, validation_data=val_generator, \n",
    "                        validation_steps=validation_steps, class_weight=None, workers=1, initial_epoch=0)"
   ]
  },
  {
   "cell_type": "code",
   "execution_count": null,
   "metadata": {},
   "outputs": [],
   "source": [
    "plt.figure(figsize=(20,6))\n",
    "ax1 = plt.subplot(121)\n",
    "ax1 = plt.plot(history.history['loss'])\n",
    "ax1 = plt.plot(history.history['val_loss'])\n",
    "plt.title('model loss')\n",
    "plt.ylabel('loss')\n",
    "plt.xlabel('epoch')\n",
    "plt.legend(['train', 'validation'], loc='lower left')\n",
    "ax2 = plt.subplot(122)\n",
    "ax2 = plt.plot(history.history['categorical_accuracy'])\n",
    "ax2 = plt.plot(history.history['val_categorical_accuracy'])\n",
    "plt.title('model accuracy')\n",
    "plt.ylabel('categorical_accuracy')\n",
    "plt.xlabel('epoch')\n",
    "plt.legend(['train', 'validation'], loc='lower left')"
   ]
  },
  {
   "cell_type": "code",
   "execution_count": null,
   "metadata": {},
   "outputs": [],
   "source": []
  }
 ],
 "metadata": {
  "kernelspec": {
   "display_name": "Python 3 (ipykernel)",
   "language": "python",
   "name": "python3"
  },
  "language_info": {
   "codemirror_mode": {
    "name": "ipython",
    "version": 3
   },
   "file_extension": ".py",
   "mimetype": "text/x-python",
   "name": "python",
   "nbconvert_exporter": "python",
   "pygments_lexer": "ipython3",
   "version": "3.7.13"
  }
 },
 "nbformat": 4,
 "nbformat_minor": 2
}
